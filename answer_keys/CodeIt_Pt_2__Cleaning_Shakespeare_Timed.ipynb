{
 "cells": [
  {
   "cell_type": "markdown",
   "metadata": {},
   "source": [
    "# Code it: Cleaning Shakespeare\n",
    "\n",
    "\n",
    "### Timings\n",
    "\n",
    "Shakespeare is much bigger than Walden, and so it takes a lot longer to process the text. Just to demonstrate where the biggest slowdowns are, I split the sample code up into chunks and time each one.\n",
    "\n",
    "**Can you guess which part of the text cleaning process will take the longest?**\n",
    "\n",
    "## Sample code"
   ]
  },
  {
   "cell_type": "code",
   "execution_count": null,
   "metadata": {},
   "outputs": [],
   "source": [
    "#######################\n",
    "## Setup environment ##\n",
    "#######################\n",
    "\n",
    "# Import packages\n",
    "import matplotlib.pyplot as plt\n",
    "import numpy as np\n",
    "import pickle\n",
    "import os\n",
    "from scipy import special\n",
    "from nltk import *\n",
    "from nltk.corpus import stopwords\n",
    "\n",
    "# Will will time all functions to see what takes longest with the help of the 'time' package\n",
    "import time "
   ]
  },
  {
   "cell_type": "code",
   "execution_count": null,
   "metadata": {},
   "outputs": [],
   "source": [
    "# Save the current time (according to the computer) as the variable 't0'.\n",
    "# We will consider this the start time and subtract it from the time at the end of the block.\n",
    "t0 = time.time() \n",
    "\n",
    "######################\n",
    "## Read-in the file ##\n",
    "######################\n",
    "# What is the path to the complete works of Shakespeare?\n",
    "shakespeare_path = '../texts/shakespeare.txt'\n",
    "\n",
    "# Open the file at the specified path\n",
    "shakespeare_file = open( shakespeare_path, 'r')\n",
    "\n",
    "# Read the file as raw text\n",
    "shakespeare_raw = shakespeare_file.read()\n",
    "\n",
    "# Close the original file\n",
    "shakespeare_file.close()\n",
    "\n",
    "t1 = time.time() # End time\n"
   ]
  },
  {
   "cell_type": "code",
   "execution_count": null,
   "metadata": {},
   "outputs": [],
   "source": [
    "# Print the time elapsed between t0 and the current time\n",
    "print( \"This block took\", round( t1-t0 ), \"seconds to complete.\" ) # 0s\n",
    "\n",
    "## We use this data for another Code it, so let's save a copy\n",
    "# Write the tokens to /working/ folder \n",
    "with open('../working/shakespeare_raw.pkl', 'wb') as f:\n",
    "    pickle.dump( shakespeare_raw , f )"
   ]
  },
  {
   "cell_type": "code",
   "execution_count": null,
   "metadata": {},
   "outputs": [],
   "source": [
    "t0 = time.time()# Start time\n",
    "\n",
    "#######################\n",
    "## Tokenize the file ##\n",
    "#######################\n",
    "# Tokenize the raw text\n",
    "shakespeare_tokens = word_tokenize( shakespeare_raw )\n",
    "\n",
    "# Print the tokens\n",
    "shakespeare_tokens\n",
    "\n",
    "t1 = time.time() # End time\n",
    "\n",
    "## We use this data for another Code it, so let's save a copy\n",
    "# Write the tokens to /working/ folder \n",
    "with open('../working/shakespeare_text.pkl', 'wb') as f:\n",
    "    pickle.dump( shakespeare_tokens , f )\n"
   ]
  },
  {
   "cell_type": "code",
   "execution_count": null,
   "metadata": {},
   "outputs": [],
   "source": [
    "# Print the time elapsed between t0 and the current time\n",
    "print( \"This block took\", round( t1-t0 ), \"seconds to complete.\" ) # 10s"
   ]
  },
  {
   "cell_type": "code",
   "execution_count": null,
   "metadata": {},
   "outputs": [],
   "source": [
    "t0 = time.time()# Start time\n",
    "\n",
    "##############\n",
    "## Cleaning ##\n",
    "##############\n",
    "# Remove non-alphabetical characters\n",
    "shakespeare_tokens = [ token for token in shakespeare_tokens if token.isalpha() ]\n",
    "\n",
    "t1 = time.time() # End time"
   ]
  },
  {
   "cell_type": "code",
   "execution_count": null,
   "metadata": {},
   "outputs": [],
   "source": [
    "# Print the time elapsed between t0 and the current time\n",
    "print( \"This block took\", round( t1-t0 ), \"seconds to complete.\" ) # 0s"
   ]
  },
  {
   "cell_type": "code",
   "execution_count": null,
   "metadata": {},
   "outputs": [],
   "source": [
    "t0 = time.time()# Start time\n",
    "\n",
    "# Convert the text to lowercase\n",
    "shakespeare_tokens = [ token.lower() for token in shakespeare_tokens ]\n",
    "\n",
    "t1 = time.time() # End time\n"
   ]
  },
  {
   "cell_type": "code",
   "execution_count": null,
   "metadata": {},
   "outputs": [],
   "source": [
    "# Print the time elapsed between t0 and the current time\n",
    "print( \"This block took\", round( t1-t0 ), \"seconds to complete.\" ) # 0s"
   ]
  },
  {
   "cell_type": "code",
   "execution_count": null,
   "metadata": {},
   "outputs": [],
   "source": [
    "t0 = time.time()# Start time \n",
    "\n",
    "# Filter out stopwords\n",
    "shakespeare_tokens = [token for token in shakespeare_tokens if not token in set(stopwords.words('english'))]\n",
    "\n",
    "t1 = time.time() # End time\n"
   ]
  },
  {
   "cell_type": "code",
   "execution_count": null,
   "metadata": {},
   "outputs": [],
   "source": [
    "# Print the time elapsed between t0 and the current time\n",
    "print( \"This block took\", round( t1-t0 ), \"seconds to complete.\" ) # 122s"
   ]
  },
  {
   "cell_type": "code",
   "execution_count": null,
   "metadata": {},
   "outputs": [],
   "source": [
    "t0 = time.time()# Start time\n",
    "\n",
    "####################\n",
    "## Frequency plot ##\n",
    "####################\n",
    "# Generate a frequency distribution for the tokens\n",
    "shakespeare_FreqDist = FreqDist( shakespeare_tokens )\n",
    "\n",
    "# Big figure\n",
    "plt.rcParams[\"figure.figsize\"] = [16,7]\n",
    "\n",
    "# Display plot with top 50 tokens\n",
    "shakespeare_FreqDist.plot( 50 )\n",
    "\n",
    "t1 = time.time() # End time\n",
    "\n",
    "## We use this data for another Code it, so let's save a copy\n",
    "# Write the tokens to /working/ folder \n",
    "with open('../working/shakespeare_tokens.pkl', 'wb') as f:\n",
    "    pickle.dump( shakespeare_tokens , f )"
   ]
  },
  {
   "cell_type": "code",
   "execution_count": null,
   "metadata": {},
   "outputs": [],
   "source": [
    "# Print the time elapsed between t0 and the current time\n",
    "print( \"This block took\", round( t1-t0 ), \"seconds to complete.\" ) # 1s"
   ]
  },
  {
   "cell_type": "markdown",
   "metadata": {},
   "source": [
    "### Back to timings\n",
    "\n",
    "As you can see, the step that took almost all of the time (over a minute!) was this line:\n",
    "\n",
    "```shakespeare_tokens = [token for token in shakespeare_tokens if not token in set(stopwords.words('english'))]```\n",
    "\n",
    "What's taking so long and how can we speed it up? The first answer is easy: it's going slow because we are looking up every single token and comparing it to the stopwords list that comes with NLTK.\n",
    "\n",
    "## Let's try to speed it up\n",
    "\n",
    "There's no point in looking up a particular token more than once, so we can reduce the time it takes to execute the code by checking each unique word in the text against the stopword list.\n",
    "\n",
    ">**In the next code block we reduce the runtime from 2 minutes to 3 seconds!**"
   ]
  },
  {
   "cell_type": "code",
   "execution_count": null,
   "metadata": {},
   "outputs": [],
   "source": [
    "# Convert the shakespeare_tokens to a set, which collapses across identical members\n",
    "# This will leave us only unique tokens\n",
    "shakespeare_tokens_set = set( shakespeare_tokens )\n",
    "\n",
    "# How many unique tokens (set version of the cleaned token list)?\n",
    "set_length = len( shakespeare_tokens_set )\n",
    "\n",
    "# How many cleaned tokens are there?\n",
    "list_length = len( shakespeare_tokens ) \n",
    "\n",
    "# Print a message with the differences quantified\n",
    "print(\"We reduced the token count by\", list_length - set_length, \"tokens.\") # 470002 tokens\n"
   ]
  },
  {
   "cell_type": "code",
   "execution_count": null,
   "metadata": {},
   "outputs": [],
   "source": [
    "t0 = time.time()# Start time\n",
    "\n",
    "# Let's remove the stopwords from the set version\n",
    "shakespeare_tokens_r = [token for token in shakespeare_tokens_set if not token in set(stopwords.words('english'))]\n",
    "\n",
    "t1 = time.time() # End time\n"
   ]
  },
  {
   "cell_type": "code",
   "execution_count": null,
   "metadata": {},
   "outputs": [],
   "source": [
    "# Print the time elapsed between t0 and the current time\n",
    "print( \"This block took\", round( t1-t0 ), \"seconds to complete.\" ) # 3s"
   ]
  },
  {
   "cell_type": "code",
   "execution_count": null,
   "metadata": {},
   "outputs": [],
   "source": []
  }
 ],
 "metadata": {
  "kernelspec": {
   "display_name": "Python 3",
   "language": "python",
   "name": "python3"
  },
  "language_info": {
   "codemirror_mode": {
    "name": "ipython",
    "version": 3
   },
   "file_extension": ".py",
   "mimetype": "text/x-python",
   "name": "python",
   "nbconvert_exporter": "python",
   "pygments_lexer": "ipython3",
   "version": "3.7.1"
  }
 },
 "nbformat": 4,
 "nbformat_minor": 2
}
