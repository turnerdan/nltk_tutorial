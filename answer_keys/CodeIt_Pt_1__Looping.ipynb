{
 "cells": [
  {
   "cell_type": "markdown",
   "metadata": {},
   "source": [
    "# Code it: Looping\n",
    "## Sample code"
   ]
  },
  {
   "cell_type": "code",
   "execution_count": 1,
   "metadata": {},
   "outputs": [
    {
     "name": "stdout",
     "output_type": "stream",
     "text": [
      "Northwestern's James L Allen Center was built in 1979 !\n",
      "Northwestern's Annie May Swift Hall was built in 1895 !\n",
      "Northwestern's Cresap Laboratories was built in 1949 !\n",
      "Northwestern's Fisk Hall was built in 1899 !\n",
      "Northwestern's Harris Hall was built in 1915 !\n",
      "Northwestern's Kresge Hall was built in 1955 !\n",
      "Northwestern's Locy Hall was built in 1928 !\n",
      "Northwestern's Lunt Hall was built in 1894 !\n",
      "Northwestern's McCormick Center was built in 2002 !\n",
      "Northwestern's Scott Hall was built in 1940 !\n",
      "Northwestern's Swift Hall was built in 1909 !\n",
      "Northwestern's University Hall was built in 1869 !\n"
     ]
    }
   ],
   "source": [
    "# A list of lists, where each sublist is the name and year built of a Northwestern academic building.\n",
    "academics = [ [ \"James L Allen Center\", 1979], [ \"Annie May Swift Hall\", 1895], [ \"Cresap Laboratories\", 1949],  [ \"Fisk Hall\", 1899], [ \"Harris Hall\", 1915], [ \"Kresge Hall\", 1955], [ \"Locy Hall\", 1928], [ \"Lunt Hall\", 1894], [ \"McCormick Center\", 2002], [ \"Scott Hall\", 1940], [ \"Swift Hall\", 1909], [ \"University Hall\", 1869] ]\n",
    "\n",
    "# For each element in 'element' (as 'building')...\n",
    "for building in academics:\n",
    "    \n",
    "    # ...take the first sublist element as 'name' and the second as 'year'.\n",
    "    name = building[0]\n",
    "    year = building[1]\n",
    "    \n",
    "    # My helpful message with the building's name and year.\n",
    "    print(\"Northwestern's\", name, \"was built in\", year, \"!\")"
   ]
  },
  {
   "cell_type": "code",
   "execution_count": null,
   "metadata": {},
   "outputs": [],
   "source": []
  }
 ],
 "metadata": {
  "kernelspec": {
   "display_name": "Python 3",
   "language": "python",
   "name": "python3"
  },
  "language_info": {
   "codemirror_mode": {
    "name": "ipython",
    "version": 3
   },
   "file_extension": ".py",
   "mimetype": "text/x-python",
   "name": "python",
   "nbconvert_exporter": "python",
   "pygments_lexer": "ipython3",
   "version": "3.7.1"
  }
 },
 "nbformat": 4,
 "nbformat_minor": 2
}
