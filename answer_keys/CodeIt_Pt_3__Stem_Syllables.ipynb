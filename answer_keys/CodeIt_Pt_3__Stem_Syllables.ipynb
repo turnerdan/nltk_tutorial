{
 "cells": [
  {
   "cell_type": "markdown",
   "metadata": {},
   "source": [
    "# Code it: Syllable count for Walden stems\n",
    "\n",
    "## Sample code"
   ]
  },
  {
   "cell_type": "code",
   "execution_count": 1,
   "metadata": {},
   "outputs": [],
   "source": [
    "###########\n",
    "## Setup ##\n",
    "###########\n",
    "\n",
    "## This new notebook is a new environment, so we have to set it up again.\n",
    "\n",
    "# Import packages\n",
    "from nltk import *\n",
    "import pickle\n",
    "import string\n",
    "import pandas as pd\n",
    "from nltk.corpus import cmudict\n",
    "import matplotlib.pyplot as plt\n",
    "\n",
    "# Custom function to count the syllables for each word passed to it\n",
    "def syllables(word):\n",
    "    # Only look up the word if it's in CMUdict (set of 134,000 words)\n",
    "    if word in cmu:\n",
    "        # If it's in CMUdict, print the number of digits in the transcription\n",
    "        return max([len([y for y in x if y[-1] in string.digits])\n",
    "                    for x in cmu[word]])\n",
    "\n",
    "# Import the Walden data we cleaned and tokenized\n",
    "walden_tokens = pickle.load( open( \"../working/walden_clean_tokens.pkl\", \"rb\" ) )\n",
    "\n",
    "# Stem the tokens with teh Porter stemmer\n",
    "walden_stems = [PorterStemmer().stem(t) for t in walden_tokens]\n",
    "\n",
    "# Create a shortcut to the CMUdict produnciation dictionary as 'cmudict.dict()'\n",
    "cmu = cmudict.dict()"
   ]
  },
  {
   "cell_type": "code",
   "execution_count": 2,
   "metadata": {},
   "outputs": [],
   "source": [
    "##################\n",
    "## Loop version ##\n",
    "##################\n",
    "\n",
    "# Loops require an empty list\n",
    "walden_stems_sylls = []\n",
    "\n",
    "# Loop each stem in walden_stems\n",
    "for stem in walden_stems:\n",
    "    \n",
    "    # Get the syllable count using our custom function\n",
    "    syll_count = syllables( stem )\n",
    "    \n",
    "    # If the word is missing from CMUdict, it will return 'None'--filter those out\n",
    "    if syll_count != None:\n",
    "    \n",
    "        # Add the syllable count to the list\n",
    "        walden_stems_sylls.append( syll_count )\n",
    "\n",
    "################################\n",
    "## List comprehension version ##\n",
    "################################\n",
    "\n",
    "# Return the syllable count for each stem in walden stems, if it isn't missing from CMUdict\n",
    "walden_stems_sylls = [syllables(stem) for stem in walden_stems if syllables(stem) != None]"
   ]
  },
  {
   "cell_type": "code",
   "execution_count": 3,
   "metadata": {},
   "outputs": [
    {
     "data": {
      "text/plain": [
       "Text(0.5, 1.0, 'Syllable Frequency in Walden Stems')"
      ]
     },
     "execution_count": 3,
     "metadata": {},
     "output_type": "execute_result"
    },
    {
     "data": {
      "image/png": "[encoded data removed]",
      "text/plain": [
       "<Figure size 1152x504 with 1 Axes>"
      ]
     },
     "metadata": {
      "needs_background": "light"
     },
     "output_type": "display_data"
    }
   ],
   "source": [
    "#############################################\n",
    "## Plot the distribution of syllable count ##\n",
    "#############################################\n",
    "\n",
    "# Convert the list of counts to a pandas series for easy plotting\n",
    "walden_stems_sylls = pd.Series(walden_stems_sylls)\n",
    "\n",
    "# Set the figure size to fill the notebook\n",
    "plt.rcParams[\"figure.figsize\"] = [16,7]\n",
    "\n",
    "# Plot a histogram of the syllable counts\n",
    "walden_stems_sylls.plot.hist(grid=True, rwidth=2,\n",
    "                   color='#607c8e')\n",
    "\n",
    "# Let's also add a title to our plot\n",
    "plt.title('Syllable Frequency in Walden Stems')"
   ]
  },
  {
   "cell_type": "code",
   "execution_count": null,
   "metadata": {},
   "outputs": [],
   "source": []
  }
 ],
 "metadata": {
  "kernelspec": {
   "display_name": "Python 3",
   "language": "python",
   "name": "python3"
  },
  "language_info": {
   "codemirror_mode": {
    "name": "ipython",
    "version": 3
   },
   "file_extension": ".py",
   "mimetype": "text/x-python",
   "name": "python",
   "nbconvert_exporter": "python",
   "pygments_lexer": "ipython3",
   "version": "3.7.1"
  }
 },
 "nbformat": 4,
 "nbformat_minor": 2
}
