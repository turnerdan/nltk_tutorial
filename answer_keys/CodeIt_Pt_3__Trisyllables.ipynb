{
 "cells": [
  {
   "cell_type": "markdown",
   "metadata": {},
   "source": [
    "# Code it: Trisyllables in Walden\n",
    "\n",
    "## Sample code\n"
   ]
  },
  {
   "cell_type": "code",
   "execution_count": null,
   "metadata": {},
   "outputs": [],
   "source": [
    "###########\n",
    "## Setup ##\n",
    "###########\n",
    "\n",
    "## This new notebook is a new environment, so we have to set it up again.\n",
    "\n",
    "# Import packages\n",
    "from nltk import *\n",
    "import pickle\n",
    "import string\n",
    "from nltk.corpus import cmudict\n",
    "\n",
    "# Custom function to count the syllables for each word passed to it\n",
    "def syllables(word):\n",
    "    # Only look up the word if it's in CMUdict (set of 134,000 words)\n",
    "    if word in cmu:\n",
    "        # If it's in CMUdict, print the number of digits in the transcription\n",
    "        return max([len([y for y in x if y[-1] in string.digits])\n",
    "                    for x in cmu[word]])\n",
    "\n",
    "# Import the Walden data we saved from the Text Cleaning chapter\n",
    "\n",
    "walden_tokens = pickle.load( open( \"../working/walden_clean_tokens.pkl\", \"rb\" ) )\n",
    "\n",
    "# Create a shortcut to the CMUdict produnciation dictionary as 'cmudict.dict()'\n",
    "cmu = cmudict.dict()"
   ]
  },
  {
   "cell_type": "code",
   "execution_count": null,
   "metadata": {},
   "outputs": [],
   "source": [
    "# Regenerate the frequency distribution across the tokens to extract the most common words\n",
    "token_frequencies = FreqDist( walden_tokens )\n",
    "\n",
    "# A placeholder for our trisyllable words\n",
    "trisyl_tokens =[]\n",
    "\n",
    "# We will create a loop that goes through each token in token_frequencies\n",
    "#      For each token, we will look it up in the CMUdict and,\n",
    "#           if the syllable count equals3, we will save it to a new list\n",
    "for token in token_frequencies:\n",
    "\n",
    "    # Look up the token pronunciation and count the digits in CMUdict to get the number of syllables\n",
    "    syl_count = syllables(token)\n",
    "    \n",
    "    # If the syllable count is equal to three...\n",
    "    if syl_count == 3:\n",
    "        \n",
    "        # ...print a message.\n",
    "        #print( \"Token\", token, \"contains 3 syllables and occurs\", token_frequencies[token], \"times.\")\n",
    "        \n",
    "        # Add our token to the list\n",
    "        trisyl_tokens.append( [token, token_frequencies[token]] )\n",
    "        \n",
    "# Sort the list from most to least frequent (second element in each sublist)\n",
    "trisyl_tokens = sorted(trisyl_tokens, key=lambda x: x[1], reverse = True)\n",
    "\n",
    "# Now we have a sorted list of lists (our favorite) with each list containing the 3-syllable token and its frequency\n",
    "# Let's print the top 15 to see how we did!\n",
    "trisyl_tokens[:15]"
   ]
  },
  {
   "cell_type": "code",
   "execution_count": null,
   "metadata": {},
   "outputs": [],
   "source": []
  }
 ],
 "metadata": {
  "kernelspec": {
   "display_name": "Python 3",
   "language": "python",
   "name": "python3"
  },
  "language_info": {
   "codemirror_mode": {
    "name": "ipython",
    "version": 3
   },
   "file_extension": ".py",
   "mimetype": "text/x-python",
   "name": "python",
   "nbconvert_exporter": "python",
   "pygments_lexer": "ipython3",
   "version": "3.7.1"
  }
 },
 "nbformat": 4,
 "nbformat_minor": 2
}
