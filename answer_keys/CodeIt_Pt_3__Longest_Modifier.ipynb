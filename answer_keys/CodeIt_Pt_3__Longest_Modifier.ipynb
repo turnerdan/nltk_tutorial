{
 "cells": [
  {
   "cell_type": "markdown",
   "metadata": {},
   "source": [
    "# Code it: Longest modifier\n",
    "\n",
    "## Sample code\n",
    "\n",
    ">**What is the longest modifier in Shakespeare?**\n"
   ]
  },
  {
   "cell_type": "code",
   "execution_count": null,
   "metadata": {},
   "outputs": [],
   "source": [
    "###########\n",
    "## Setup ##\n",
    "###########\n",
    "\n",
    "## This new notebook is a new environment, so we have to set it up again.\n",
    "\n",
    "# Import packages\n",
    "from nltk import *\n",
    "import pickle\n",
    "import string\n",
    "from nltk.corpus import cmudict\n",
    "\n",
    "# Custom function to count the syllables for each word passed to it\n",
    "def syllables(word):\n",
    "    # Only look up the word if it's in CMUdict (set of 134,000 words)\n",
    "    if word in cmu:\n",
    "        # If it's in CMUdict, print the number of digits in the transcription\n",
    "        return max([len([y for y in x if y[-1] in string.digits])\n",
    "                    for x in cmu[word]])\n",
    "\n",
    "# Import the Walden data we saved from the Text Cleaning chapter\n",
    "\n",
    "shakespeare_tokens = pickle.load( open( \"../working/shakespeare_tokens.pkl\", \"rb\" ) )\n",
    "\n",
    "# Create a shortcut to the CMUdict produnciation dictionary as 'cmudict.dict()'\n",
    "cmu = cmudict.dict()\n"
   ]
  },
  {
   "cell_type": "code",
   "execution_count": null,
   "metadata": {},
   "outputs": [],
   "source": [
    "#################\n",
    "## Sample code ##\n",
    "#################\n",
    "\n",
    "# First we have to tag each token with its part of speech\n",
    "shakespeare_tagged = pos_tag( shakespeare_tokens )\n",
    "\n",
    "# Extract the tokens with a modifier tag\n",
    "shakespeare_mods = [token for token in shakespeare_tagged if token[1] in [\"JJ\", \"RB\"]]\n",
    "\n",
    "# Their syllable count, as our custom function counts using CMUdict\n",
    "shakespeare_mods_sylls = [syllables(x[0]) for x in shakespeare_mods]\n"
   ]
  },
  {
   "cell_type": "code",
   "execution_count": null,
   "metadata": {},
   "outputs": [],
   "source": [
    "## Now we will loop\n",
    "\n",
    "# Setting up our loop variables\n",
    "longest = 1 # Number of syllables ('longest')...\n",
    "long_i = 0  # ...and its index ('long_i')\n",
    "\n",
    "# Loop the syllable list by index, so 'i' will index the syllable number list *and* the corresponding token list\n",
    "for i in range(0, len( shakespeare_mods_sylls )):\n",
    "               \n",
    "    length = shakespeare_mods_sylls[i]\n",
    "    \n",
    "    # If this token has more syllables...\n",
    "    if length != None and length > longest:\n",
    "        \n",
    "        # ...then set the new count to the current highest.\n",
    "        longest = length\n",
    "        long_i = i\n",
    "\n",
    "# Print the tagged token\n",
    "print( shakespeare_mods[long_i] )\n"
   ]
  },
  {
   "cell_type": "code",
   "execution_count": null,
   "metadata": {},
   "outputs": [],
   "source": []
  }
 ],
 "metadata": {
  "kernelspec": {
   "display_name": "Python 3",
   "language": "python",
   "name": "python3"
  },
  "language_info": {
   "codemirror_mode": {
    "name": "ipython",
    "version": 3
   },
   "file_extension": ".py",
   "mimetype": "text/x-python",
   "name": "python",
   "nbconvert_exporter": "python",
   "pygments_lexer": "ipython3",
   "version": "3.7.1"
  }
 },
 "nbformat": 4,
 "nbformat_minor": 2
}
