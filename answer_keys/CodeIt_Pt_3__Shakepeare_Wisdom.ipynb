{
 "cells": [
  {
   "cell_type": "markdown",
   "metadata": {},
   "source": [
    "# Code it: Shakepeare's wisdom and knowledge\n",
    "\n",
    "## Sample code\n"
   ]
  },
  {
   "cell_type": "code",
   "execution_count": null,
   "metadata": {},
   "outputs": [],
   "source": [
    "###########\n",
    "## Setup ##\n",
    "###########\n",
    "\n",
    "## This new notebook is a new environment, so we have to set it up again.\n",
    "\n",
    "# Import packages\n",
    "from nltk import *\n",
    "import pickle\n",
    "\n",
    "# Open a pre-tokenized (but not clean) version of the complete works of Shakespeare\n",
    "shakespeare_tokens = pickle.load( open( \"../working/shakespeare_text.pkl\", \"rb\" ) )\n",
    "\n",
    "# Convert the tokens to a nltk Text object, which is how collocates are found\n",
    "shakespeare = Text(shakespeare_tokens)"
   ]
  },
  {
   "cell_type": "code",
   "execution_count": null,
   "metadata": {},
   "outputs": [],
   "source": [
    "# A list of words we want to compare\n",
    "words = [\"wisdom\", \"knowledge\"]\n",
    "\n",
    "# Loop the list of words to compare\n",
    "for word in words:\n",
    "    \n",
    "    # Concordance for the word\n",
    "    print(\"Concordance for\", word.upper() ) # Title\n",
    "    shakespeare.concordance( word )\n",
    "    \n",
    "    # Similar tokens for the word\n",
    "    print(\"\\nTerms similar to\", word.upper() ) # Title\n",
    "    shakespeare.similar( word )\n",
    "    \n",
    "    print(\"\\n\")\n",
    "    \n",
    "    \n",
    "# Print common contexts for all words in the list (don't loop this!)\n",
    "print(\"Common contexts for\", words ) # Title\n",
    "shakespeare.common_contexts( words )\n"
   ]
  },
  {
   "cell_type": "code",
   "execution_count": null,
   "metadata": {},
   "outputs": [],
   "source": []
  }
 ],
 "metadata": {
  "kernelspec": {
   "display_name": "Python 3",
   "language": "python",
   "name": "python3"
  },
  "language_info": {
   "codemirror_mode": {
    "name": "ipython",
    "version": 3
   },
   "file_extension": ".py",
   "mimetype": "text/x-python",
   "name": "python",
   "nbconvert_exporter": "python",
   "pygments_lexer": "ipython3",
   "version": "3.7.1"
  }
 },
 "nbformat": 4,
 "nbformat_minor": 2
}
