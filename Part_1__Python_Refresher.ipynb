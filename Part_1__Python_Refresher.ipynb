{
 "cells": [
  {
   "cell_type": "markdown",
   "metadata": {},
   "source": [
    "# Python Refresher\n",
    "\n",
    "**We will take a little time to orient you Python3, the coding language for this tutorial.**\n",
    "\n",
    "**Goals**\n",
    "<ol>\n",
    "    <li> Why use Python (versus R, Ruby, Matlab, etc.) </li>\n",
    "    <li> Loops </li>\n",
    "    <li> List comprehension </li>\n",
    "</ol>\n",
    "\n",
    "\n",
    "\n",
    "## Why use Python (versus other languages)?\n",
    "**In my experience, people tend to prefer Python for text processing and analysis over other programming languages like R, Ruby, Matlab, and others.**\n",
    "\n",
    "While programming languages are designed to be general purpose, there are more packages and resources for text-related tasks than practically any other language. This means that if you want to do some online data mining, work with gigantic corpora, or custom semantic tagging systems (say, for happy versus sad words), you can do all of this *and* the analysis in the same language. Take the example of data mining. You could:\n",
    "\n",
    "<ol>\n",
    "    <li>Use the <code>BeautifulSoup</code> package to scrape a list of webpages and parse them into plaintext.</li>\n",
    "    <li>With regular expressions (regex), <code>nltk</code>, and the <code>string</code> package you can clean the plaintext, tokenize it, create frequency distributions and ngram models.</li>\n",
    "    <li><code>pandas</code> is good for data analyis tasks for the statistics that come out of NLTK.</li>\n",
    "    <li>You can even train a \"deep learning\" neural network based on text data without leaving Python, thanks to <code>PyTorch</code></li>\n",
    "</ol>\n",
    "\n",
    "There's also the fact that Python is widely known compared to R and Matlab, which are other languages that can do \"all of the above\" when it comes to text analysis.\n",
    "\n",
    "> **The next sections are all about looping and list comprehension in Python3, which is important review for understanding the upcoming code.**\n",
    "\n",
    "## Loops in Python\n",
    "\n",
    "\n",
    "### Simple \"for\" loop"
   ]
  },
  {
   "cell_type": "code",
   "execution_count": null,
   "metadata": {},
   "outputs": [],
   "source": [
    "# A list of lists, where each sublist contains the library name and year built\n",
    "libraries = [ [\"Charles Deering \", 1933], [\"Seeley G. Mudd Library\", 1977], [\"Northwestern University Library\", 1970] ]\n",
    "\n",
    "############################\n",
    "# Loop 1 - Simple for loop #\n",
    "############################\n",
    "\n",
    "# This is a \"for loop\" that iterates \"for\" a number of times, in this case, the length of 'libraries'\n",
    "#      There are other types of loops, but this is the only type we will use in this tutorial\n",
    "\n",
    "# 'lib' acts as a variable that takes the identity of each sublist, one at a time\n",
    "for lib in libraries:\n",
    "    \n",
    "    # Print the sublist\n",
    "    print( lib )\n",
    "    \n",
    "    # Index the first item in the sublist, the name of the library\n",
    "    #      Never forget! Python counts from zero!\n",
    "    print( lib[0] )\n",
    "    \n",
    "    # Index the second item in the sublist, the year the library was built\n",
    "    print( lib[1] )\n"
   ]
  },
  {
   "cell_type": "markdown",
   "metadata": {},
   "source": [
    "### \"For\" loop with conditional\n",
    "\n",
    "Very often, we do not want to perform the exact same task with every element we have in a loop. In these cases we use **conditionals** to only run a script under a certain condition, often in the form <code>if X = TRUE, do Y</code>.\n",
    "\n",
    "> **In the next code chunk we take the simple \"for\" loop from above and add a condition: we will only print the names of libraries built after 1950.** So, for each sublist in 'nulibs', we will check the year (the second element in the sublist) and if it is *greater than* 1950, we will print the name (the first sublist element)."
   ]
  },
  {
   "cell_type": "code",
   "execution_count": null,
   "metadata": {},
   "outputs": [],
   "source": [
    "######################################\n",
    "# Loop 2 - For loop with conditional #\n",
    "######################################\n",
    "\n",
    "# Our simple for loop again\n",
    "for lib in libraries:\n",
    "    \n",
    "    # If the year built is greater than 1950...\n",
    "    if lib[1] > 1950:\n",
    "        \n",
    "        # ...print the name of the library.\n",
    "        print ( lib[0] )\n"
   ]
  },
  {
   "cell_type": "markdown",
   "metadata": {},
   "source": [
    "### It works... BUT\n",
    "\n",
    "**This kind of loop exists in every modern programming language, but they are slow and the code takes up a lot of space.** The next section talks about a *faster* and *more compact* way to do the same thing.\n",
    "\n",
    "## List comprehension in Python\n",
    "\n",
    "Some facts:\n",
    "* Loops (especially with many embedded loops) can be hard to read and understand.\n",
    "* Text processing is computationally intensive, compared to numeric tasks.\n",
    "\n",
    "Luckily, we do not need to loop over lists with <code>for</code> loops, we can just tell Python to process the list directly using **list comprehension**. \n",
    "\n",
    "> In the next line, we reproduce the \"For loop with conditional\" with list comprehension. Read it like this: **\"Return the first element** (lib[0]) **for each element** (lib) **in 'libraries' if the second element** (lib[1]) **is greater than 1950\"**.\n"
   ]
  },
  {
   "cell_type": "code",
   "execution_count": null,
   "metadata": {},
   "outputs": [],
   "source": [
    "print( [lib[0] for lib in libraries if lib[1] > 1950] )"
   ]
  },
  {
   "cell_type": "markdown",
   "metadata": {},
   "source": [
    "### List comprehension is fast and clean...\n",
    "... and the output is a list, so you can write <code>my_list = </code> before it and have a new list. Then you can do list comprehension again, if you want. Convenient!\n",
    "\n",
    "\n",
    "# Next: Text cleaning\n",
    "\n",
    "In the next section, we load a text and \"clean\" it to prepare it for analysis.\n",
    "\n",
    "\n",
    "# Code it: Looping\n",
    "\n",
    "Write a loop that writes a helpful message\n"
   ]
  },
  {
   "cell_type": "code",
   "execution_count": null,
   "metadata": {},
   "outputs": [],
   "source": [
    "#############################################\n",
    "## ## ## ## > Code it < ## ## ## ##         #\n",
    "################################### Looping #\n",
    "## Sample answer in /answer_keys ##         #\n",
    "#############################################\n",
    "\n",
    "# A list of lists, where each sublist is the name and year built of a Northwestern academic building.\n",
    "academics = [ [ \"James L Allen Center\", 1979], [ \"Annie May Swift Hall\", 1895], [ \"Cresap Laboratories\", 1949],  [ \"Fisk Hall\", 1899], [ \"Harris Hall\", 1915], [ \"Kresge Hall\", 1955], [ \"Locy Hall\", 1928], [ \"Lunt Hall\", 1894], [ \"McCormick Center\", 2002], [ \"Scott Hall\", 1940], [ \"Swift Hall\", 1909], [ \"University Hall\", 1869] ]\n",
    "\n",
    "# For each element in 'element' (as 'building')...\n",
    "for building in academics:\n",
    "    continue\n",
    "    \n",
    "    # You code here:\n"
   ]
  },
  {
   "cell_type": "code",
   "execution_count": null,
   "metadata": {},
   "outputs": [],
   "source": []
  }
 ],
 "metadata": {
  "kernelspec": {
   "display_name": "Python 3",
   "language": "python",
   "name": "python3"
  },
  "language_info": {
   "codemirror_mode": {
    "name": "ipython",
    "version": 3
   },
   "file_extension": ".py",
   "mimetype": "text/x-python",
   "name": "python",
   "nbconvert_exporter": "python",
   "pygments_lexer": "ipython3",
   "version": "3.7.1"
  }
 },
 "nbformat": 4,
 "nbformat_minor": 2
}
